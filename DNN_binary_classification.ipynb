{
 "cells": [
  {
   "cell_type": "code",
   "execution_count": 1,
   "metadata": {
    "_cell_guid": "b1076dfc-b9ad-4769-8c92-a6c4dae69d19",
    "_uuid": "8f2839f25d086af736a60e9eeb907d3b93b6e0e5",
    "execution": {
     "iopub.execute_input": "2023-01-06T15:37:53.900904Z",
     "iopub.status.busy": "2023-01-06T15:37:53.900348Z",
     "iopub.status.idle": "2023-01-06T15:37:53.921051Z",
     "shell.execute_reply": "2023-01-06T15:37:53.919957Z",
     "shell.execute_reply.started": "2023-01-06T15:37:53.900863Z"
    },
    "id": "cedpOom86QAo"
   },
   "outputs": [],
   "source": [
    "# This Python 3 environment comes with many helpful analytics libraries installed\n",
    "# It is defined by the kaggle/python Docker image: https://github.com/kaggle/docker-python\n",
    "# For example, here's several helpful packages to load\n",
    "\n",
    "import numpy as np # linear algebra\n",
    "import pandas as pd # data processing, CSV file I/O (e.g. pd.read_csv)\n",
    "import matplotlib.pyplot as plt\n",
    "\n",
    "# Input data files are available in the read-only \"../input/\" directory\n",
    "# For example, running this (by clicking run or pressing Shift+Enter) will list all files under the input directory\n",
    "\n",
    "# import os\n",
    "# for dirname, _, filenames in os.walk('/kaggle/input'):\n",
    "#     for filename in filenames:\n",
    "#         print(os.path.join(dirname, filename))\n",
    "\n",
    "# You can write up to 20GB to the current directory (/kaggle/working/) that gets preserved as output when you create a version using \"Save & Run All\" \n",
    "# You can also write temporary files to /kaggle/temp/, but they won't be saved outside of the current session"
   ]
  },
  {
   "cell_type": "code",
   "execution_count": 10,
   "metadata": {
    "colab": {
     "base_uri": "https://localhost:8080/"
    },
    "id": "TSQ6AR2O6hPN",
    "outputId": "5754d77c-dd42-4fb1-95d8-d39db7a026a8"
   },
   "outputs": [],
   "source": [
    "#!unzip /content/archive.zip\n",
    "import warnings\n",
    "warnings.filterwarnings(\"ignore\")"
   ]
  },
  {
   "cell_type": "markdown",
   "metadata": {
    "id": "vP8dCpzz6QA1"
   },
   "source": [
    "Dataset : https://www.kaggle.com/datasets/adammaus/predicting-churn-for-bank-customers"
   ]
  },
  {
   "cell_type": "code",
   "execution_count": 11,
   "metadata": {
    "colab": {
     "base_uri": "https://localhost:8080/",
     "height": 270
    },
    "execution": {
     "iopub.execute_input": "2023-01-06T13:05:28.191392Z",
     "iopub.status.busy": "2023-01-06T13:05:28.190987Z",
     "iopub.status.idle": "2023-01-06T13:05:28.275431Z",
     "shell.execute_reply": "2023-01-06T13:05:28.274059Z",
     "shell.execute_reply.started": "2023-01-06T13:05:28.191358Z"
    },
    "id": "B-S5A1CC6QA9",
    "outputId": "3efb6777-fcfa-4b16-be78-7a325b3b7cf6"
   },
   "outputs": [
    {
     "data": {
      "text/html": [
       "<div>\n",
       "<style scoped>\n",
       "    .dataframe tbody tr th:only-of-type {\n",
       "        vertical-align: middle;\n",
       "    }\n",
       "\n",
       "    .dataframe tbody tr th {\n",
       "        vertical-align: top;\n",
       "    }\n",
       "\n",
       "    .dataframe thead th {\n",
       "        text-align: right;\n",
       "    }\n",
       "</style>\n",
       "<table border=\"1\" class=\"dataframe\">\n",
       "  <thead>\n",
       "    <tr style=\"text-align: right;\">\n",
       "      <th></th>\n",
       "      <th>RowNumber</th>\n",
       "      <th>CustomerId</th>\n",
       "      <th>Surname</th>\n",
       "      <th>CreditScore</th>\n",
       "      <th>Geography</th>\n",
       "      <th>Gender</th>\n",
       "      <th>Age</th>\n",
       "      <th>Tenure</th>\n",
       "      <th>Balance</th>\n",
       "      <th>NumOfProducts</th>\n",
       "      <th>HasCrCard</th>\n",
       "      <th>IsActiveMember</th>\n",
       "      <th>EstimatedSalary</th>\n",
       "      <th>Exited</th>\n",
       "    </tr>\n",
       "  </thead>\n",
       "  <tbody>\n",
       "    <tr>\n",
       "      <th>0</th>\n",
       "      <td>1</td>\n",
       "      <td>15634602</td>\n",
       "      <td>Hargrave</td>\n",
       "      <td>619</td>\n",
       "      <td>France</td>\n",
       "      <td>Female</td>\n",
       "      <td>42</td>\n",
       "      <td>2</td>\n",
       "      <td>0.00</td>\n",
       "      <td>1</td>\n",
       "      <td>1</td>\n",
       "      <td>1</td>\n",
       "      <td>101348.88</td>\n",
       "      <td>1</td>\n",
       "    </tr>\n",
       "    <tr>\n",
       "      <th>1</th>\n",
       "      <td>2</td>\n",
       "      <td>15647311</td>\n",
       "      <td>Hill</td>\n",
       "      <td>608</td>\n",
       "      <td>Spain</td>\n",
       "      <td>Female</td>\n",
       "      <td>41</td>\n",
       "      <td>1</td>\n",
       "      <td>83807.86</td>\n",
       "      <td>1</td>\n",
       "      <td>0</td>\n",
       "      <td>1</td>\n",
       "      <td>112542.58</td>\n",
       "      <td>0</td>\n",
       "    </tr>\n",
       "    <tr>\n",
       "      <th>2</th>\n",
       "      <td>3</td>\n",
       "      <td>15619304</td>\n",
       "      <td>Onio</td>\n",
       "      <td>502</td>\n",
       "      <td>France</td>\n",
       "      <td>Female</td>\n",
       "      <td>42</td>\n",
       "      <td>8</td>\n",
       "      <td>159660.80</td>\n",
       "      <td>3</td>\n",
       "      <td>1</td>\n",
       "      <td>0</td>\n",
       "      <td>113931.57</td>\n",
       "      <td>1</td>\n",
       "    </tr>\n",
       "    <tr>\n",
       "      <th>3</th>\n",
       "      <td>4</td>\n",
       "      <td>15701354</td>\n",
       "      <td>Boni</td>\n",
       "      <td>699</td>\n",
       "      <td>France</td>\n",
       "      <td>Female</td>\n",
       "      <td>39</td>\n",
       "      <td>1</td>\n",
       "      <td>0.00</td>\n",
       "      <td>2</td>\n",
       "      <td>0</td>\n",
       "      <td>0</td>\n",
       "      <td>93826.63</td>\n",
       "      <td>0</td>\n",
       "    </tr>\n",
       "    <tr>\n",
       "      <th>4</th>\n",
       "      <td>5</td>\n",
       "      <td>15737888</td>\n",
       "      <td>Mitchell</td>\n",
       "      <td>850</td>\n",
       "      <td>Spain</td>\n",
       "      <td>Female</td>\n",
       "      <td>43</td>\n",
       "      <td>2</td>\n",
       "      <td>125510.82</td>\n",
       "      <td>1</td>\n",
       "      <td>1</td>\n",
       "      <td>1</td>\n",
       "      <td>79084.10</td>\n",
       "      <td>0</td>\n",
       "    </tr>\n",
       "  </tbody>\n",
       "</table>\n",
       "</div>"
      ],
      "text/plain": [
       "   RowNumber  CustomerId   Surname  CreditScore Geography  Gender  Age  \\\n",
       "0          1    15634602  Hargrave          619    France  Female   42   \n",
       "1          2    15647311      Hill          608     Spain  Female   41   \n",
       "2          3    15619304      Onio          502    France  Female   42   \n",
       "3          4    15701354      Boni          699    France  Female   39   \n",
       "4          5    15737888  Mitchell          850     Spain  Female   43   \n",
       "\n",
       "   Tenure    Balance  NumOfProducts  HasCrCard  IsActiveMember  \\\n",
       "0       2       0.00              1          1               1   \n",
       "1       1   83807.86              1          0               1   \n",
       "2       8  159660.80              3          1               0   \n",
       "3       1       0.00              2          0               0   \n",
       "4       2  125510.82              1          1               1   \n",
       "\n",
       "   EstimatedSalary  Exited  \n",
       "0        101348.88       1  \n",
       "1        112542.58       0  \n",
       "2        113931.57       1  \n",
       "3         93826.63       0  \n",
       "4         79084.10       0  "
      ]
     },
     "execution_count": 11,
     "metadata": {},
     "output_type": "execute_result"
    }
   ],
   "source": [
    "df = pd.read_csv(\"./Churn_Modelling.csv\")\n",
    "df.head(5)"
   ]
  },
  {
   "cell_type": "code",
   "execution_count": 3,
   "metadata": {
    "colab": {
     "base_uri": "https://localhost:8080/",
     "height": 364
    },
    "execution": {
     "iopub.execute_input": "2023-01-06T13:06:16.025436Z",
     "iopub.status.busy": "2023-01-06T13:06:16.024984Z",
     "iopub.status.idle": "2023-01-06T13:06:16.102957Z",
     "shell.execute_reply": "2023-01-06T13:06:16.100656Z",
     "shell.execute_reply.started": "2023-01-06T13:06:16.025403Z"
    },
    "id": "lo7QH-3o6QBB",
    "outputId": "8073a7ef-a054-45a2-e432-efc041bdd4e9"
   },
   "outputs": [
    {
     "data": {
      "text/plain": [
       "RowNumber          0\n",
       "CustomerId         0\n",
       "Surname            0\n",
       "CreditScore        0\n",
       "Geography          0\n",
       "Gender             0\n",
       "Age                0\n",
       "Tenure             0\n",
       "Balance            0\n",
       "NumOfProducts      0\n",
       "HasCrCard          0\n",
       "IsActiveMember     0\n",
       "EstimatedSalary    0\n",
       "Exited             0\n",
       "dtype: int64"
      ]
     },
     "execution_count": 3,
     "metadata": {},
     "output_type": "execute_result"
    }
   ],
   "source": [
    "df.isnull().sum()"
   ]
  },
  {
   "cell_type": "code",
   "execution_count": 30,
   "metadata": {
    "colab": {
     "base_uri": "https://localhost:8080/"
    },
    "execution": {
     "iopub.execute_input": "2023-01-06T13:08:37.274858Z",
     "iopub.status.busy": "2023-01-06T13:08:37.274398Z",
     "iopub.status.idle": "2023-01-06T13:08:37.299575Z",
     "shell.execute_reply": "2023-01-06T13:08:37.298364Z",
     "shell.execute_reply.started": "2023-01-06T13:08:37.274818Z"
    },
    "id": "ingfx4W_6QBF",
    "outputId": "f843baa7-f4ae-470d-e845-9e3c47db92ad"
   },
   "outputs": [
    {
     "name": "stdout",
     "output_type": "stream",
     "text": [
      "<class 'pandas.core.frame.DataFrame'>\n",
      "RangeIndex: 10000 entries, 0 to 9999\n",
      "Data columns (total 14 columns):\n",
      " #   Column           Non-Null Count  Dtype  \n",
      "---  ------           --------------  -----  \n",
      " 0   RowNumber        10000 non-null  int64  \n",
      " 1   CustomerId       10000 non-null  int64  \n",
      " 2   Surname          10000 non-null  object \n",
      " 3   CreditScore      10000 non-null  int64  \n",
      " 4   Geography        10000 non-null  object \n",
      " 5   Gender           10000 non-null  object \n",
      " 6   Age              10000 non-null  int64  \n",
      " 7   Tenure           10000 non-null  int64  \n",
      " 8   Balance          10000 non-null  float64\n",
      " 9   NumOfProducts    10000 non-null  int64  \n",
      " 10  HasCrCard        10000 non-null  int64  \n",
      " 11  IsActiveMember   10000 non-null  int64  \n",
      " 12  EstimatedSalary  10000 non-null  float64\n",
      " 13  Exited           10000 non-null  int64  \n",
      "dtypes: float64(2), int64(9), object(3)\n",
      "memory usage: 1.1+ MB\n"
     ]
    }
   ],
   "source": [
    "df.info()"
   ]
  },
  {
   "cell_type": "code",
   "execution_count": 4,
   "metadata": {
    "execution": {
     "iopub.execute_input": "2023-01-06T13:13:35.120452Z",
     "iopub.status.busy": "2023-01-06T13:13:35.119896Z",
     "iopub.status.idle": "2023-01-06T13:13:35.129878Z",
     "shell.execute_reply": "2023-01-06T13:13:35.128180Z",
     "shell.execute_reply.started": "2023-01-06T13:13:35.120405Z"
    },
    "id": "P7opdJ0Q6QBI"
   },
   "outputs": [],
   "source": [
    "df.drop(columns=[\"RowNumber\",\"CustomerId\",\"Surname\"],inplace=True)"
   ]
  },
  {
   "cell_type": "code",
   "execution_count": 5,
   "metadata": {
    "execution": {
     "iopub.execute_input": "2023-01-06T13:17:09.982658Z",
     "iopub.status.busy": "2023-01-06T13:17:09.982136Z",
     "iopub.status.idle": "2023-01-06T13:17:09.995451Z",
     "shell.execute_reply": "2023-01-06T13:17:09.994316Z",
     "shell.execute_reply.started": "2023-01-06T13:17:09.982622Z"
    },
    "id": "be3c6zQc6QBL"
   },
   "outputs": [],
   "source": [
    "maps = {\n",
    "    \"Balance\":\"int64\",\n",
    "    \"EstimatedSalary\":\"int64\"\n",
    "}\n",
    "df = df.astype(maps)"
   ]
  },
  {
   "cell_type": "code",
   "execution_count": 6,
   "metadata": {
    "execution": {
     "iopub.execute_input": "2023-01-06T13:21:11.598297Z",
     "iopub.status.busy": "2023-01-06T13:21:11.597841Z",
     "iopub.status.idle": "2023-01-06T13:21:11.613434Z",
     "shell.execute_reply": "2023-01-06T13:21:11.611802Z",
     "shell.execute_reply.started": "2023-01-06T13:21:11.598264Z"
    },
    "id": "LIyz9-GU6QBN"
   },
   "outputs": [],
   "source": [
    "df = pd.get_dummies(data=df,columns=[\"Geography\",\"Gender\"],drop_first=True)"
   ]
  },
  {
   "cell_type": "code",
   "execution_count": 7,
   "metadata": {
    "execution": {
     "iopub.execute_input": "2023-01-06T15:43:48.589870Z",
     "iopub.status.busy": "2023-01-06T15:43:48.589419Z",
     "iopub.status.idle": "2023-01-06T15:43:48.601325Z",
     "shell.execute_reply": "2023-01-06T15:43:48.600165Z",
     "shell.execute_reply.started": "2023-01-06T15:43:48.589835Z"
    },
    "id": "JEbbhLYu6QBQ"
   },
   "outputs": [],
   "source": [
    "from sklearn.model_selection import train_test_split\n",
    "X=df.drop(columns=[\"Exited\"])\n",
    "y=df[\"Exited\"]\n",
    "X_train,X_test,y_train,y_test = train_test_split(X,y,test_size=0.2,random_state=42)"
   ]
  },
  {
   "cell_type": "code",
   "execution_count": 8,
   "metadata": {
    "execution": {
     "iopub.execute_input": "2023-01-06T15:43:53.634148Z",
     "iopub.status.busy": "2023-01-06T15:43:53.633665Z",
     "iopub.status.idle": "2023-01-06T15:43:53.650630Z",
     "shell.execute_reply": "2023-01-06T15:43:53.649351Z",
     "shell.execute_reply.started": "2023-01-06T15:43:53.634111Z"
    },
    "id": "S502Ttel6QBU"
   },
   "outputs": [],
   "source": [
    "from sklearn.preprocessing import StandardScaler\n",
    "\n",
    "scale = StandardScaler()\n",
    "X_train_scaled = scale.fit_transform(X_train)\n",
    "X_test_scaled = scale.transform(X_test)"
   ]
  },
  {
   "cell_type": "code",
   "execution_count": 20,
   "metadata": {
    "colab": {
     "base_uri": "https://localhost:8080/",
     "height": 42
    },
    "execution": {
     "iopub.execute_input": "2023-01-06T15:31:46.509748Z",
     "iopub.status.busy": "2023-01-06T15:31:46.508814Z",
     "iopub.status.idle": "2023-01-06T15:31:46.520281Z",
     "shell.execute_reply": "2023-01-06T15:31:46.519019Z",
     "shell.execute_reply.started": "2023-01-06T15:31:46.509682Z"
    },
    "id": "pb6_gPm_6QBe",
    "outputId": "20dd2210-9549-4587-e893-c6f6a27809b0"
   },
   "outputs": [
    {
     "name": "stdout",
     "output_type": "stream",
     "text": [
      "The tensorboard extension is already loaded. To reload it, use:\n",
      "  %reload_ext tensorboard\n"
     ]
    },
    {
     "data": {
      "text/plain": [
       "'2.11.0'"
      ]
     },
     "execution_count": 20,
     "metadata": {},
     "output_type": "execute_result"
    }
   ],
   "source": [
    "import tensorflow as tf\n",
    "from tensorflow.keras.losses import BinaryCrossentropy\n",
    "from tensorflow.keras.layers import Dense,Dropout,BatchNormalization\n",
    "from tensorflow.keras.models import Sequential\n",
    "from tensorflow.keras.optimizers import Adam\n",
    "from tensorflow.keras.callbacks import EarlyStopping,ModelCheckpoint,TensorBoard\n",
    "#from tensorflow.keras.constraints import MaxNorm\n",
    "from tensorflow.keras.regularizers import L2\n",
    "\n",
    "import tensorboard\n",
    "\n",
    "# Load the TensorBoard notebook extension.\n",
    "%load_ext tensorboard\n",
    "\n",
    "tf.__version__"
   ]
  },
  {
   "cell_type": "code",
   "execution_count": 15,
   "metadata": {
    "colab": {
     "base_uri": "https://localhost:8080/"
    },
    "execution": {
     "iopub.execute_input": "2023-01-06T15:01:32.773346Z",
     "iopub.status.busy": "2023-01-06T15:01:32.772892Z",
     "iopub.status.idle": "2023-01-06T15:01:32.781885Z",
     "shell.execute_reply": "2023-01-06T15:01:32.780402Z",
     "shell.execute_reply.started": "2023-01-06T15:01:32.773311Z"
    },
    "id": "bAP5N77m6QBi",
    "outputId": "40c1061e-c839-49b6-f6f8-31facfe703de"
   },
   "outputs": [
    {
     "name": "stdout",
     "output_type": "stream",
     "text": [
      "11 2\n"
     ]
    }
   ],
   "source": [
    "num_units = X_train.shape[1]\n",
    "num_classes = y_train.nunique()\n",
    "print(num_units,num_classes)"
   ]
  },
  {
   "cell_type": "code",
   "execution_count": 41,
   "metadata": {
    "execution": {
     "iopub.execute_input": "2023-01-06T16:15:52.810880Z",
     "iopub.status.busy": "2023-01-06T16:15:52.810297Z",
     "iopub.status.idle": "2023-01-06T16:15:52.880855Z",
     "shell.execute_reply": "2023-01-06T16:15:52.879513Z",
     "shell.execute_reply.started": "2023-01-06T16:15:52.810833Z"
    },
    "id": "txpOn-cF6QBl"
   },
   "outputs": [],
   "source": [
    "model = Sequential()\n",
    "#initializer = tf.keras.initializers.HeNormal()\n",
    "model.add(Dense(units=128,input_dim=num_units,activation='relu'))\n",
    "model.add(BatchNormalization(momentum=0.9,epsilon=0.001,center=True,scale=True))\n",
    "model.add(Dense(units=64,activation='relu'))\n",
    "model.add(BatchNormalization(momentum=0.99,epsilon=0.001,center=True,scale=True))\n",
    "#model.add(Dense(units=8,activation='relu',kernel_initializer=initializer))\n",
    "# model.add(Dense(units=32,activation='relu',kernel_constraint=MaxNorm(3)))\n",
    "model.add(Dense(units=16,activation='relu'))\n",
    "model.add(Dropout(rate=0.2))\n",
    "model.add(Dense(units=32,activation='relu',kernel_regularizer=L2(0.3)))\n",
    "model.add(Dropout(rate=0.2))\n",
    "model.add(Dense(units=num_classes-1,activation='sigmoid'))\n"
   ]
  },
  {
   "cell_type": "code",
   "execution_count": 42,
   "metadata": {
    "execution": {
     "iopub.execute_input": "2023-01-06T15:57:59.314795Z",
     "iopub.status.busy": "2023-01-06T15:57:59.314382Z",
     "iopub.status.idle": "2023-01-06T15:57:59.321333Z",
     "shell.execute_reply": "2023-01-06T15:57:59.320381Z",
     "shell.execute_reply.started": "2023-01-06T15:57:59.314764Z"
    },
    "id": "-iKEuKru6QBn"
   },
   "outputs": [],
   "source": [
    "w_old = model.get_weights()[0]"
   ]
  },
  {
   "cell_type": "code",
   "execution_count": 43,
   "metadata": {
    "execution": {
     "iopub.execute_input": "2023-01-06T16:15:56.809957Z",
     "iopub.status.busy": "2023-01-06T16:15:56.809421Z",
     "iopub.status.idle": "2023-01-06T16:15:56.823545Z",
     "shell.execute_reply": "2023-01-06T16:15:56.822429Z",
     "shell.execute_reply.started": "2023-01-06T16:15:56.809914Z"
    },
    "id": "jKtR7vg96QBq"
   },
   "outputs": [],
   "source": [
    "loss = BinaryCrossentropy(from_logits=True)\n",
    "adam = Adam(learning_rate=0.01, clipvalue=1.0)\n",
    "model.compile(optimizer=adam,loss=loss,metrics=['accuracy'])"
   ]
  },
  {
   "cell_type": "code",
   "execution_count": 34,
   "metadata": {
    "execution": {
     "iopub.execute_input": "2023-01-06T16:16:00.213981Z",
     "iopub.status.busy": "2023-01-06T16:16:00.213461Z",
     "iopub.status.idle": "2023-01-06T16:16:01.290724Z",
     "shell.execute_reply": "2023-01-06T16:16:01.289294Z",
     "shell.execute_reply.started": "2023-01-06T16:16:00.213939Z"
    },
    "id": "KyleNqhV6QBt"
   },
   "outputs": [],
   "source": [
    "!rm -rf ./logs/\n",
    "callbacks = [EarlyStopping(patience=2),\n",
    "#             ModelCheckpoint(filepath='model.{epoch:02d}-{val_loss:.2f}.h5'),\n",
    "             TensorBoard(log_dir='./logs')]"
   ]
  },
  {
   "cell_type": "code",
   "execution_count": 44,
   "metadata": {
    "colab": {
     "base_uri": "https://localhost:8080/"
    },
    "execution": {
     "iopub.execute_input": "2023-01-06T16:16:03.779649Z",
     "iopub.status.busy": "2023-01-06T16:16:03.779210Z",
     "iopub.status.idle": "2023-01-06T16:16:14.698200Z",
     "shell.execute_reply": "2023-01-06T16:16:14.696851Z",
     "shell.execute_reply.started": "2023-01-06T16:16:03.779612Z"
    },
    "id": "8hZ0L2jk6QBx",
    "outputId": "25fd95c3-77b2-4c39-c81c-28c21d5e8b5a"
   },
   "outputs": [
    {
     "name": "stdout",
     "output_type": "stream",
     "text": [
      "Epoch 1/100\n",
      "200/200 [==============================] - 4s 6ms/step - loss: 0.8212 - accuracy: 0.7973 - val_loss: 0.4095 - val_accuracy: 0.8263\n",
      "Epoch 2/100\n",
      "200/200 [==============================] - 1s 4ms/step - loss: 0.4220 - accuracy: 0.8252 - val_loss: 0.3983 - val_accuracy: 0.8400\n",
      "Epoch 3/100\n",
      "200/200 [==============================] - 1s 5ms/step - loss: 0.4161 - accuracy: 0.8300 - val_loss: 0.3806 - val_accuracy: 0.8469\n",
      "Epoch 4/100\n",
      "200/200 [==============================] - 1s 4ms/step - loss: 0.4022 - accuracy: 0.8358 - val_loss: 0.3884 - val_accuracy: 0.8525\n",
      "Epoch 5/100\n",
      "200/200 [==============================] - 1s 5ms/step - loss: 0.4002 - accuracy: 0.8417 - val_loss: 0.3751 - val_accuracy: 0.8569\n",
      "Epoch 6/100\n",
      "200/200 [==============================] - 1s 5ms/step - loss: 0.4013 - accuracy: 0.8458 - val_loss: 0.4326 - val_accuracy: 0.8512\n",
      "Epoch 7/100\n",
      "200/200 [==============================] - 1s 5ms/step - loss: 0.3945 - accuracy: 0.8523 - val_loss: 0.3992 - val_accuracy: 0.8500\n"
     ]
    }
   ],
   "source": [
    "history = model.fit(x=X_train_scaled,y=y_train,epochs=100,\n",
    "                    validation_split=0.2,callbacks=[callbacks])\n",
    "# if we don't use early stopping model will run for 100 epochs &  overfit\n"
   ]
  },
  {
   "cell_type": "code",
   "execution_count": 45,
   "metadata": {
    "colab": {
     "base_uri": "https://localhost:8080/"
    },
    "execution": {
     "iopub.execute_input": "2023-01-06T15:58:29.461215Z",
     "iopub.status.busy": "2023-01-06T15:58:29.460759Z",
     "iopub.status.idle": "2023-01-06T15:58:29.466762Z",
     "shell.execute_reply": "2023-01-06T15:58:29.465428Z",
     "shell.execute_reply.started": "2023-01-06T15:58:29.461181Z"
    },
    "id": "cHLwrE6y6QBz",
    "outputId": "3535bae4-575c-4a61-cd5d-061578766661"
   },
   "outputs": [
    {
     "data": {
      "text/plain": [
       "array([ 1218.4021  ,  4134.1655  ,  3844.7136  ,   114.03866 ,\n",
       "       -1413.1979  ,  1129.1449  , -4681.9136  ,   793.7409  ,\n",
       "       -1714.5652  , -2312.4014  , -3238.376   ,  -943.7657  ,\n",
       "        -238.5715  ,  3098.3003  ,  -164.17627 ,   780.9128  ,\n",
       "       -2351.8503  ,  1579.0118  ,  2321.1477  ,  2020.0106  ,\n",
       "         157.65025 ,   473.45697 ,  -256.40295 ,  1229.4015  ,\n",
       "        2892.0525  , -4054.1917  ,   357.30435 ,  -739.07513 ,\n",
       "       -1435.4879  ,   398.92688 ,  2179.1052  ,  1394.8523  ,\n",
       "        -803.50323 , -3032.9387  , -1850.7534  ,   985.8366  ,\n",
       "        2853.0205  ,  5215.3613  ,   692.2223  ,   429.47397 ,\n",
       "        2257.27    , -1456.1028  ,  1201.7805  , -1095.8391  ,\n",
       "        2340.632   , -1779.7675  , -3767.9822  ,  2181.2424  ,\n",
       "       -3495.102   , -1211.7657  ,  2059.5857  ,   641.0216  ,\n",
       "       -3079.3342  ,   -44.258907,  -766.2634  ,   257.63617 ,\n",
       "        -106.6957  ,  -738.38293 ,  1043.0656  ,  3984.4453  ,\n",
       "        -260.61758 ,   493.46506 ,  3240.5884  ,  -443.7583  ,\n",
       "        -774.71643 ,  2106.5332  , -1390.1498  ,  -721.50604 ,\n",
       "       -1091.3618  , -2041.4244  , -2006.8097  , -1892.9806  ,\n",
       "        4308.498   ,  1902.3444  ,   535.7154  ,  1582.9847  ,\n",
       "       -1479.3772  , -1668.932   , -1127.351   ,  1583.5876  ,\n",
       "        1666.8591  ,  -103.80581 ,  1119.6372  , -1871.9417  ,\n",
       "        1913.464   , -1331.9034  ,   862.98944 ,   253.61867 ,\n",
       "         211.18202 ,  1486.0016  , -1720.755   , -1214.5344  ,\n",
       "       -1697.3788  ,  -392.37402 ,   -44.228584,   364.82297 ,\n",
       "        2692.6216  ,  2418.5886  ,  3092.388   , -1913.2153  ,\n",
       "        -213.76537 ,  2695.967   ,  -900.7291  , -1928.1747  ,\n",
       "         386.93985 , -1149.8948  , -1258.8141  ,  1890.2408  ,\n",
       "       -1388.46    , -1354.607   ,  2097.0352  ,  -574.5371  ,\n",
       "         -18.281565,  2480.995   ,   518.78125 ,  -164.44922 ,\n",
       "       -1075.8906  ,  1760.7767  ,  2928.7769  ,  2163.165   ,\n",
       "       -2595.0193  , -3726.6465  ,  2096.7358  ,   695.86    ,\n",
       "         888.1712  ,  -903.42523 , -1494.8875  , -1123.2992  ],\n",
       "      dtype=float32)"
      ]
     },
     "execution_count": 45,
     "metadata": {},
     "output_type": "execute_result"
    }
   ],
   "source": [
    "## check gradient change\n",
    "\n",
    "w_new = model.get_weights()[0]\n",
    "nu = 0.01\n",
    "pct_change = 100*(w_new - w_old)/nu\n",
    "\n",
    "pct_change[0]"
   ]
  },
  {
   "cell_type": "code",
   "execution_count": 28,
   "metadata": {
    "colab": {
     "base_uri": "https://localhost:8080/",
     "height": 838
    },
    "execution": {
     "iopub.execute_input": "2023-01-06T15:58:25.110167Z",
     "iopub.status.busy": "2023-01-06T15:58:25.109744Z",
     "iopub.status.idle": "2023-01-06T15:58:25.115878Z",
     "shell.execute_reply": "2023-01-06T15:58:25.114374Z",
     "shell.execute_reply.started": "2023-01-06T15:58:25.110135Z"
    },
    "id": "4hkZ355O6QB4",
    "outputId": "461c47da-0545-4bda-930c-16d9d935eae2"
   },
   "outputs": [
    {
     "data": {
      "text/html": [
       "\n",
       "      <iframe id=\"tensorboard-frame-f91a80b30051983a\" width=\"100%\" height=\"800\" frameborder=\"0\">\n",
       "      </iframe>\n",
       "      <script>\n",
       "        (function() {\n",
       "          const frame = document.getElementById(\"tensorboard-frame-f91a80b30051983a\");\n",
       "          const url = new URL(\"/\", window.location);\n",
       "          const port = 6006;\n",
       "          if (port) {\n",
       "            url.port = port;\n",
       "          }\n",
       "          frame.src = url;\n",
       "        })();\n",
       "      </script>\n",
       "    "
      ],
      "text/plain": [
       "<IPython.core.display.HTML object>"
      ]
     },
     "metadata": {},
     "output_type": "display_data"
    }
   ],
   "source": [
    "%tensorboard --logdir logs\n"
   ]
  },
  {
   "cell_type": "code",
   "execution_count": 46,
   "metadata": {
    "colab": {
     "base_uri": "https://localhost:8080/",
     "height": 513
    },
    "execution": {
     "iopub.execute_input": "2023-01-06T16:16:20.107560Z",
     "iopub.status.busy": "2023-01-06T16:16:20.107132Z",
     "iopub.status.idle": "2023-01-06T16:16:20.369317Z",
     "shell.execute_reply": "2023-01-06T16:16:20.367952Z",
     "shell.execute_reply.started": "2023-01-06T16:16:20.107524Z"
    },
    "id": "hWOC-Q0M6QB6",
    "outputId": "4a3a3852-aefc-47ba-fdbe-9af851be4863"
   },
   "outputs": [
    {
     "data": {
      "image/png": "[encoded data removed]",
      "text/plain": [
       "<Figure size 1000x800 with 1 Axes>"
      ]
     },
     "metadata": {},
     "output_type": "display_data"
    }
   ],
   "source": [
    "plt.figure(figsize=(10,8))\n",
    "plt.plot(history.history[\"loss\"],label=\"loss\")\n",
    "plt.plot(history.history[\"val_loss\"],label=\"val_loss\")\n",
    "plt.xlabel(\"# of epochs\")\n",
    "plt.ylabel(\"loss values\")\n",
    "plt.title(\"Train loss vs Validation loss\")\n",
    "plt.legend()\n",
    "plt.show()"
   ]
  },
  {
   "cell_type": "code",
   "execution_count": 47,
   "metadata": {
    "colab": {
     "base_uri": "https://localhost:8080/",
     "height": 513
    },
    "execution": {
     "iopub.execute_input": "2023-01-06T16:16:24.620824Z",
     "iopub.status.busy": "2023-01-06T16:16:24.620287Z",
     "iopub.status.idle": "2023-01-06T16:16:24.865788Z",
     "shell.execute_reply": "2023-01-06T16:16:24.864578Z",
     "shell.execute_reply.started": "2023-01-06T16:16:24.620782Z"
    },
    "id": "oaTtzv3l6QB8",
    "outputId": "57675304-a66a-4ff1-d37b-72f6863d93b2"
   },
   "outputs": [
    {
     "data": {
      "image/png": "[encoded data removed]",
      "text/plain": [
       "<Figure size 1000x800 with 1 Axes>"
      ]
     },
     "metadata": {},
     "output_type": "display_data"
    }
   ],
   "source": [
    "plt.figure(figsize=(10,8))\n",
    "plt.plot(history.history[\"accuracy\"],label=\"accuracy\")\n",
    "plt.plot(history.history[\"val_accuracy\"],label=\"val_accuracy\")\n",
    "plt.xlabel(\"# of epochs\")\n",
    "plt.ylabel('accuracy values')\n",
    "plt.title(\"Train accuracy vs Validation accuracy\")\n",
    "plt.legend()\n",
    "plt.show()"
   ]
  },
  {
   "cell_type": "code",
   "execution_count": 48,
   "metadata": {
    "colab": {
     "base_uri": "https://localhost:8080/"
    },
    "execution": {
     "iopub.execute_input": "2023-01-06T16:16:28.618521Z",
     "iopub.status.busy": "2023-01-06T16:16:28.616838Z",
     "iopub.status.idle": "2023-01-06T16:16:28.869579Z",
     "shell.execute_reply": "2023-01-06T16:16:28.867607Z",
     "shell.execute_reply.started": "2023-01-06T16:16:28.618449Z"
    },
    "id": "idGQsrdS6QCA",
    "outputId": "9c9c2ae9-fc66-456a-a7d5-d898b0458bbe"
   },
   "outputs": [
    {
     "name": "stdout",
     "output_type": "stream",
     "text": [
      "63/63 [==============================] - 0s 2ms/step\n"
     ]
    }
   ],
   "source": [
    "pred = model.predict(X_test_scaled)\n",
    "y_pred = np.where(pred>0.5,1,0)"
   ]
  },
  {
   "cell_type": "code",
   "execution_count": 49,
   "metadata": {
    "colab": {
     "base_uri": "https://localhost:8080/"
    },
    "execution": {
     "iopub.execute_input": "2023-01-06T16:16:31.526121Z",
     "iopub.status.busy": "2023-01-06T16:16:31.525667Z",
     "iopub.status.idle": "2023-01-06T16:16:31.536417Z",
     "shell.execute_reply": "2023-01-06T16:16:31.535369Z",
     "shell.execute_reply.started": "2023-01-06T16:16:31.526087Z"
    },
    "id": "8Fa7scNg6QCC",
    "outputId": "dbc5fb90-10cd-4ce0-b599-db9b6a38c76c"
   },
   "outputs": [
    {
     "name": "stdout",
     "output_type": "stream",
     "text": [
      "0.852\n",
      "[[1536   71]\n",
      " [ 225  168]]\n"
     ]
    }
   ],
   "source": [
    "from sklearn.metrics import confusion_matrix,accuracy_score\n",
    "\n",
    "score = accuracy_score(y_test,y_pred)\n",
    "print(score)\n",
    "cm = confusion_matrix(y_test,y_pred)\n",
    "print(cm)"
   ]
  },
  {
   "cell_type": "code",
   "execution_count": 50,
   "metadata": {
    "id": "wvytZiKr6QCF"
   },
   "outputs": [],
   "source": [
    "# 0.8545\n",
    "# [[1546   61]\n",
    "#  [ 230  163]]\n",
    "\n",
    "# 0.8545\n",
    "# [[1550   57]\n",
    "#  [ 234  159]]\n",
    "\n",
    "#0.859\n",
    "# [[1540   67]\n",
    "#  [ 215  178]]"
   ]
  },
  {
   "cell_type": "code",
   "execution_count": 50,
   "metadata": {
    "id": "eanS51t46QCd"
   },
   "outputs": [],
   "source": []
  }
 ],
 "metadata": {
  "accelerator": "GPU",
  "colab": {
   "provenance": []
  },
  "gpuClass": "standard",
  "kernelspec": {
   "display_name": "Python 3 (ipykernel)",
   "language": "python",
   "name": "python3"
  },
  "language_info": {
   "codemirror_mode": {
    "name": "ipython",
    "version": 3
   },
   "file_extension": ".py",
   "mimetype": "text/x-python",
   "name": "python",
   "nbconvert_exporter": "python",
   "pygments_lexer": "ipython3",
   "version": "3.10.8"
  }
 },
 "nbformat": 4,
 "nbformat_minor": 1
}
